{
 "cells": [
  {
   "cell_type": "markdown",
   "id": "2c531e0a",
   "metadata": {},
   "source": [
    "### Import the required libraries and load the data"
   ]
  },
  {
   "cell_type": "markdown",
   "id": "8aafd0da",
   "metadata": {},
   "source": [
    "#### 1. Load the required libraries and read the dataset"
   ]
  },
  {
   "cell_type": "code",
   "execution_count": 1,
   "id": "c1758a2d",
   "metadata": {},
   "outputs": [],
   "source": [
    "import numpy as np\n",
    "import pandas as pd\n",
    "import matplotlib.pyplot as plt\n",
    "import seaborn as sns"
   ]
  },
  {
   "cell_type": "code",
   "execution_count": 2,
   "id": "68d70448",
   "metadata": {},
   "outputs": [
    {
     "data": {
      "text/html": [
       "<div>\n",
       "<style scoped>\n",
       "    .dataframe tbody tr th:only-of-type {\n",
       "        vertical-align: middle;\n",
       "    }\n",
       "\n",
       "    .dataframe tbody tr th {\n",
       "        vertical-align: top;\n",
       "    }\n",
       "\n",
       "    .dataframe thead th {\n",
       "        text-align: right;\n",
       "    }\n",
       "</style>\n",
       "<table border=\"1\" class=\"dataframe\">\n",
       "  <thead>\n",
       "    <tr style=\"text-align: right;\">\n",
       "      <th></th>\n",
       "      <th>Unnamed: 0</th>\n",
       "      <th>fit</th>\n",
       "      <th>user_id</th>\n",
       "      <th>bust size</th>\n",
       "      <th>item_id</th>\n",
       "      <th>weight</th>\n",
       "      <th>rating</th>\n",
       "      <th>rented for</th>\n",
       "      <th>review_text</th>\n",
       "      <th>body type</th>\n",
       "      <th>review_summary</th>\n",
       "      <th>category</th>\n",
       "      <th>height</th>\n",
       "      <th>size</th>\n",
       "      <th>age</th>\n",
       "      <th>review_date</th>\n",
       "    </tr>\n",
       "  </thead>\n",
       "  <tbody>\n",
       "    <tr>\n",
       "      <th>0</th>\n",
       "      <td>0</td>\n",
       "      <td>fit</td>\n",
       "      <td>420272</td>\n",
       "      <td>34d</td>\n",
       "      <td>2260466</td>\n",
       "      <td>137lbs</td>\n",
       "      <td>10.0</td>\n",
       "      <td>vacation</td>\n",
       "      <td>An adorable romper! Belt and zipper were a lit...</td>\n",
       "      <td>hourglass</td>\n",
       "      <td>So many compliments!</td>\n",
       "      <td>romper</td>\n",
       "      <td>5' 8\"</td>\n",
       "      <td>14</td>\n",
       "      <td>28.0</td>\n",
       "      <td>April 20, 2016</td>\n",
       "    </tr>\n",
       "    <tr>\n",
       "      <th>1</th>\n",
       "      <td>1</td>\n",
       "      <td>fit</td>\n",
       "      <td>273551</td>\n",
       "      <td>34b</td>\n",
       "      <td>153475</td>\n",
       "      <td>132lbs</td>\n",
       "      <td>10.0</td>\n",
       "      <td>other</td>\n",
       "      <td>I rented this dress for a photo shoot. The the...</td>\n",
       "      <td>straight &amp; narrow</td>\n",
       "      <td>I felt so glamourous!!!</td>\n",
       "      <td>gown</td>\n",
       "      <td>5' 6\"</td>\n",
       "      <td>12</td>\n",
       "      <td>36.0</td>\n",
       "      <td>June 18, 2013</td>\n",
       "    </tr>\n",
       "    <tr>\n",
       "      <th>2</th>\n",
       "      <td>2</td>\n",
       "      <td>fit</td>\n",
       "      <td>360448</td>\n",
       "      <td>NaN</td>\n",
       "      <td>1063761</td>\n",
       "      <td>NaN</td>\n",
       "      <td>10.0</td>\n",
       "      <td>party</td>\n",
       "      <td>This hugged in all the right places! It was a ...</td>\n",
       "      <td>NaN</td>\n",
       "      <td>It was a great time to celebrate the (almost) ...</td>\n",
       "      <td>sheath</td>\n",
       "      <td>5' 4\"</td>\n",
       "      <td>4</td>\n",
       "      <td>116.0</td>\n",
       "      <td>December 14, 2015</td>\n",
       "    </tr>\n",
       "    <tr>\n",
       "      <th>3</th>\n",
       "      <td>3</td>\n",
       "      <td>fit</td>\n",
       "      <td>909926</td>\n",
       "      <td>34c</td>\n",
       "      <td>126335</td>\n",
       "      <td>135lbs</td>\n",
       "      <td>8.0</td>\n",
       "      <td>formal affair</td>\n",
       "      <td>I rented this for my company's black tie award...</td>\n",
       "      <td>pear</td>\n",
       "      <td>Dress arrived on time and in perfect condition.</td>\n",
       "      <td>dress</td>\n",
       "      <td>5' 5\"</td>\n",
       "      <td>8</td>\n",
       "      <td>34.0</td>\n",
       "      <td>February 12, 2014</td>\n",
       "    </tr>\n",
       "    <tr>\n",
       "      <th>4</th>\n",
       "      <td>4</td>\n",
       "      <td>fit</td>\n",
       "      <td>151944</td>\n",
       "      <td>34b</td>\n",
       "      <td>616682</td>\n",
       "      <td>145lbs</td>\n",
       "      <td>10.0</td>\n",
       "      <td>wedding</td>\n",
       "      <td>I have always been petite in my upper body and...</td>\n",
       "      <td>athletic</td>\n",
       "      <td>Was in love with this dress !!!</td>\n",
       "      <td>gown</td>\n",
       "      <td>5' 9\"</td>\n",
       "      <td>12</td>\n",
       "      <td>27.0</td>\n",
       "      <td>September 26, 2016</td>\n",
       "    </tr>\n",
       "  </tbody>\n",
       "</table>\n",
       "</div>"
      ],
      "text/plain": [
       "   Unnamed: 0  fit  user_id bust size  item_id  weight  rating     rented for  \\\n",
       "0           0  fit   420272       34d  2260466  137lbs    10.0       vacation   \n",
       "1           1  fit   273551       34b   153475  132lbs    10.0          other   \n",
       "2           2  fit   360448       NaN  1063761     NaN    10.0          party   \n",
       "3           3  fit   909926       34c   126335  135lbs     8.0  formal affair   \n",
       "4           4  fit   151944       34b   616682  145lbs    10.0        wedding   \n",
       "\n",
       "                                         review_text          body type  \\\n",
       "0  An adorable romper! Belt and zipper were a lit...          hourglass   \n",
       "1  I rented this dress for a photo shoot. The the...  straight & narrow   \n",
       "2  This hugged in all the right places! It was a ...                NaN   \n",
       "3  I rented this for my company's black tie award...               pear   \n",
       "4  I have always been petite in my upper body and...           athletic   \n",
       "\n",
       "                                      review_summary category height  size  \\\n",
       "0                               So many compliments!   romper  5' 8\"    14   \n",
       "1                            I felt so glamourous!!!     gown  5' 6\"    12   \n",
       "2  It was a great time to celebrate the (almost) ...   sheath  5' 4\"     4   \n",
       "3   Dress arrived on time and in perfect condition.     dress  5' 5\"     8   \n",
       "4                    Was in love with this dress !!!     gown  5' 9\"    12   \n",
       "\n",
       "     age         review_date  \n",
       "0   28.0      April 20, 2016  \n",
       "1   36.0       June 18, 2013  \n",
       "2  116.0   December 14, 2015  \n",
       "3   34.0   February 12, 2014  \n",
       "4   27.0  September 26, 2016  "
      ]
     },
     "execution_count": 2,
     "metadata": {},
     "output_type": "execute_result"
    }
   ],
   "source": [
    "df = pd.read_csv(r'renttherunway.csv')\n",
    "df.head()"
   ]
  },
  {
   "cell_type": "markdown",
   "id": "2227b687",
   "metadata": {},
   "source": [
    "#### 2. Check the first few samples, shape, info of the data and try to familiarize yourself with different features"
   ]
  },
  {
   "cell_type": "code",
   "execution_count": 3,
   "id": "8c41893d",
   "metadata": {},
   "outputs": [
    {
     "data": {
      "text/plain": [
       "(192544, 16)"
      ]
     },
     "execution_count": 3,
     "metadata": {},
     "output_type": "execute_result"
    }
   ],
   "source": [
    "df.shape"
   ]
  },
  {
   "cell_type": "code",
   "execution_count": 4,
   "id": "f99edae2",
   "metadata": {},
   "outputs": [
    {
     "name": "stdout",
     "output_type": "stream",
     "text": [
      "<class 'pandas.core.frame.DataFrame'>\n",
      "RangeIndex: 192544 entries, 0 to 192543\n",
      "Data columns (total 16 columns):\n",
      " #   Column          Non-Null Count   Dtype  \n",
      "---  ------          --------------   -----  \n",
      " 0   Unnamed: 0      192544 non-null  int64  \n",
      " 1   fit             192544 non-null  object \n",
      " 2   user_id         192544 non-null  int64  \n",
      " 3   bust size       174133 non-null  object \n",
      " 4   item_id         192544 non-null  int64  \n",
      " 5   weight          162562 non-null  object \n",
      " 6   rating          192462 non-null  float64\n",
      " 7   rented for      192534 non-null  object \n",
      " 8   review_text     192482 non-null  object \n",
      " 9   body type       177907 non-null  object \n",
      " 10  review_summary  192199 non-null  object \n",
      " 11  category        192544 non-null  object \n",
      " 12  height          191867 non-null  object \n",
      " 13  size            192544 non-null  int64  \n",
      " 14  age             191584 non-null  float64\n",
      " 15  review_date     192544 non-null  object \n",
      "dtypes: float64(2), int64(4), object(10)\n",
      "memory usage: 23.5+ MB\n"
     ]
    }
   ],
   "source": [
    "df.info()"
   ]
  },
  {
   "cell_type": "markdown",
   "id": "82a42795",
   "metadata": {},
   "source": [
    "### Data cleansing and Exploratory data analysis:"
   ]
  },
  {
   "cell_type": "markdown",
   "id": "d8fe690e",
   "metadata": {},
   "source": [
    "#### 3. Check if there are any duplicate records in the dataset? If any, drop them."
   ]
  },
  {
   "cell_type": "code",
   "execution_count": 5,
   "id": "582285ba",
   "metadata": {},
   "outputs": [
    {
     "data": {
      "text/html": [
       "<div>\n",
       "<style scoped>\n",
       "    .dataframe tbody tr th:only-of-type {\n",
       "        vertical-align: middle;\n",
       "    }\n",
       "\n",
       "    .dataframe tbody tr th {\n",
       "        vertical-align: top;\n",
       "    }\n",
       "\n",
       "    .dataframe thead th {\n",
       "        text-align: right;\n",
       "    }\n",
       "</style>\n",
       "<table border=\"1\" class=\"dataframe\">\n",
       "  <thead>\n",
       "    <tr style=\"text-align: right;\">\n",
       "      <th></th>\n",
       "      <th>Unnamed: 0</th>\n",
       "      <th>fit</th>\n",
       "      <th>user_id</th>\n",
       "      <th>bust size</th>\n",
       "      <th>item_id</th>\n",
       "      <th>weight</th>\n",
       "      <th>rating</th>\n",
       "      <th>rented for</th>\n",
       "      <th>review_text</th>\n",
       "      <th>body type</th>\n",
       "      <th>review_summary</th>\n",
       "      <th>category</th>\n",
       "      <th>height</th>\n",
       "      <th>size</th>\n",
       "      <th>age</th>\n",
       "      <th>review_date</th>\n",
       "    </tr>\n",
       "  </thead>\n",
       "  <tbody>\n",
       "  </tbody>\n",
       "</table>\n",
       "</div>"
      ],
      "text/plain": [
       "Empty DataFrame\n",
       "Columns: [Unnamed: 0, fit, user_id, bust size, item_id, weight, rating, rented for, review_text, body type, review_summary, category, height, size, age, review_date]\n",
       "Index: []"
      ]
     },
     "execution_count": 5,
     "metadata": {},
     "output_type": "execute_result"
    }
   ],
   "source": [
    "df[df.duplicated()]"
   ]
  },
  {
   "cell_type": "code",
   "execution_count": 6,
   "id": "2110f59e",
   "metadata": {},
   "outputs": [],
   "source": [
    "# As per above, there are no duplicates"
   ]
  },
  {
   "cell_type": "markdown",
   "id": "bf1c91db",
   "metadata": {},
   "source": [
    "#### 4. Drop the columns which you think redundant for the analysis.(Hint: drop columns like ‘id’, ‘review’)"
   ]
  },
  {
   "cell_type": "code",
   "execution_count": 7,
   "id": "4e0e58c7",
   "metadata": {},
   "outputs": [],
   "source": [
    "## dropping the unnamed  and user_id and item_id\n",
    "df.drop(df.filter(regex=\"Unname\"),axis=1, inplace=True)\n",
    "df.drop(df.filter(regex=\"_id\"),axis=1,inplace=True)"
   ]
  },
  {
   "cell_type": "code",
   "execution_count": 8,
   "id": "68a4789d",
   "metadata": {},
   "outputs": [],
   "source": [
    "## dropping the columns related to review\n",
    "df.drop(df.filter(regex=\"review_\"),axis=1, inplace=True)"
   ]
  },
  {
   "cell_type": "code",
   "execution_count": 9,
   "id": "eebadc36",
   "metadata": {},
   "outputs": [
    {
     "data": {
      "text/html": [
       "<div>\n",
       "<style scoped>\n",
       "    .dataframe tbody tr th:only-of-type {\n",
       "        vertical-align: middle;\n",
       "    }\n",
       "\n",
       "    .dataframe tbody tr th {\n",
       "        vertical-align: top;\n",
       "    }\n",
       "\n",
       "    .dataframe thead th {\n",
       "        text-align: right;\n",
       "    }\n",
       "</style>\n",
       "<table border=\"1\" class=\"dataframe\">\n",
       "  <thead>\n",
       "    <tr style=\"text-align: right;\">\n",
       "      <th></th>\n",
       "      <th>fit</th>\n",
       "      <th>bust size</th>\n",
       "      <th>weight</th>\n",
       "      <th>rating</th>\n",
       "      <th>rented for</th>\n",
       "      <th>body type</th>\n",
       "      <th>category</th>\n",
       "      <th>height</th>\n",
       "      <th>size</th>\n",
       "      <th>age</th>\n",
       "    </tr>\n",
       "  </thead>\n",
       "  <tbody>\n",
       "    <tr>\n",
       "      <th>0</th>\n",
       "      <td>fit</td>\n",
       "      <td>34d</td>\n",
       "      <td>137lbs</td>\n",
       "      <td>10.0</td>\n",
       "      <td>vacation</td>\n",
       "      <td>hourglass</td>\n",
       "      <td>romper</td>\n",
       "      <td>5' 8\"</td>\n",
       "      <td>14</td>\n",
       "      <td>28.0</td>\n",
       "    </tr>\n",
       "    <tr>\n",
       "      <th>1</th>\n",
       "      <td>fit</td>\n",
       "      <td>34b</td>\n",
       "      <td>132lbs</td>\n",
       "      <td>10.0</td>\n",
       "      <td>other</td>\n",
       "      <td>straight &amp; narrow</td>\n",
       "      <td>gown</td>\n",
       "      <td>5' 6\"</td>\n",
       "      <td>12</td>\n",
       "      <td>36.0</td>\n",
       "    </tr>\n",
       "    <tr>\n",
       "      <th>2</th>\n",
       "      <td>fit</td>\n",
       "      <td>NaN</td>\n",
       "      <td>NaN</td>\n",
       "      <td>10.0</td>\n",
       "      <td>party</td>\n",
       "      <td>NaN</td>\n",
       "      <td>sheath</td>\n",
       "      <td>5' 4\"</td>\n",
       "      <td>4</td>\n",
       "      <td>116.0</td>\n",
       "    </tr>\n",
       "    <tr>\n",
       "      <th>3</th>\n",
       "      <td>fit</td>\n",
       "      <td>34c</td>\n",
       "      <td>135lbs</td>\n",
       "      <td>8.0</td>\n",
       "      <td>formal affair</td>\n",
       "      <td>pear</td>\n",
       "      <td>dress</td>\n",
       "      <td>5' 5\"</td>\n",
       "      <td>8</td>\n",
       "      <td>34.0</td>\n",
       "    </tr>\n",
       "    <tr>\n",
       "      <th>4</th>\n",
       "      <td>fit</td>\n",
       "      <td>34b</td>\n",
       "      <td>145lbs</td>\n",
       "      <td>10.0</td>\n",
       "      <td>wedding</td>\n",
       "      <td>athletic</td>\n",
       "      <td>gown</td>\n",
       "      <td>5' 9\"</td>\n",
       "      <td>12</td>\n",
       "      <td>27.0</td>\n",
       "    </tr>\n",
       "  </tbody>\n",
       "</table>\n",
       "</div>"
      ],
      "text/plain": [
       "   fit bust size  weight  rating     rented for          body type category  \\\n",
       "0  fit       34d  137lbs    10.0       vacation          hourglass   romper   \n",
       "1  fit       34b  132lbs    10.0          other  straight & narrow     gown   \n",
       "2  fit       NaN     NaN    10.0          party                NaN   sheath   \n",
       "3  fit       34c  135lbs     8.0  formal affair               pear    dress   \n",
       "4  fit       34b  145lbs    10.0        wedding           athletic     gown   \n",
       "\n",
       "  height  size    age  \n",
       "0  5' 8\"    14   28.0  \n",
       "1  5' 6\"    12   36.0  \n",
       "2  5' 4\"     4  116.0  \n",
       "3  5' 5\"     8   34.0  \n",
       "4  5' 9\"    12   27.0  "
      ]
     },
     "execution_count": 9,
     "metadata": {},
     "output_type": "execute_result"
    }
   ],
   "source": [
    "df.head()"
   ]
  },
  {
   "cell_type": "markdown",
   "id": "a5dfac4e",
   "metadata": {},
   "source": [
    "#### 5. Check the column 'weight', Is there any presence of string data? If yes, remove the string data and convert to float. (Hint: 'weight' has the suffix as lbs)"
   ]
  },
  {
   "cell_type": "code",
   "execution_count": 10,
   "id": "ab01fdec",
   "metadata": {},
   "outputs": [],
   "source": [
    "df['weight'] = df['weight'].str.replace('lbs','')"
   ]
  },
  {
   "cell_type": "code",
   "execution_count": 11,
   "id": "f2f73f13",
   "metadata": {},
   "outputs": [],
   "source": [
    "df['weight'] = df['weight'].fillna(0)"
   ]
  },
  {
   "cell_type": "code",
   "execution_count": 12,
   "id": "ae6cfda8",
   "metadata": {},
   "outputs": [],
   "source": [
    "df['weight'] = df['weight'].astype(float)"
   ]
  },
  {
   "cell_type": "code",
   "execution_count": 13,
   "id": "c06a63a4",
   "metadata": {},
   "outputs": [
    {
     "name": "stdout",
     "output_type": "stream",
     "text": [
      "<class 'pandas.core.frame.DataFrame'>\n",
      "RangeIndex: 192544 entries, 0 to 192543\n",
      "Data columns (total 10 columns):\n",
      " #   Column      Non-Null Count   Dtype  \n",
      "---  ------      --------------   -----  \n",
      " 0   fit         192544 non-null  object \n",
      " 1   bust size   174133 non-null  object \n",
      " 2   weight      192544 non-null  float64\n",
      " 3   rating      192462 non-null  float64\n",
      " 4   rented for  192534 non-null  object \n",
      " 5   body type   177907 non-null  object \n",
      " 6   category    192544 non-null  object \n",
      " 7   height      191867 non-null  object \n",
      " 8   size        192544 non-null  int64  \n",
      " 9   age         191584 non-null  float64\n",
      "dtypes: float64(3), int64(1), object(6)\n",
      "memory usage: 14.7+ MB\n"
     ]
    }
   ],
   "source": [
    "df.info()"
   ]
  },
  {
   "cell_type": "markdown",
   "id": "8af811f7",
   "metadata": {},
   "source": [
    "#### 6. Check the unique categories for the column 'rented for' and group 'party: cocktail' category with 'party'."
   ]
  },
  {
   "cell_type": "code",
   "execution_count": 14,
   "id": "eeb3d076",
   "metadata": {},
   "outputs": [
    {
     "data": {
      "text/plain": [
       "array(['vacation', 'other', 'party', 'formal affair', 'wedding', 'date',\n",
       "       'everyday', 'work', nan, 'party: cocktail'], dtype=object)"
      ]
     },
     "execution_count": 14,
     "metadata": {},
     "output_type": "execute_result"
    }
   ],
   "source": [
    "df['rented for'].unique()"
   ]
  },
  {
   "cell_type": "code",
   "execution_count": 15,
   "id": "3be69b41",
   "metadata": {},
   "outputs": [],
   "source": [
    "df['rented for'] = df['rented for'].replace('party: cocktail','party')"
   ]
  },
  {
   "cell_type": "code",
   "execution_count": 16,
   "id": "2654117f",
   "metadata": {},
   "outputs": [
    {
     "data": {
      "text/plain": [
       "array(['vacation', 'other', 'party', 'formal affair', 'wedding', 'date',\n",
       "       'everyday', 'work', nan], dtype=object)"
      ]
     },
     "execution_count": 16,
     "metadata": {},
     "output_type": "execute_result"
    }
   ],
   "source": [
    "df['rented for'].unique()"
   ]
  },
  {
   "cell_type": "markdown",
   "id": "92f21c7e",
   "metadata": {},
   "source": [
    "#### 7. The column 'height' is in feet with a quotation mark, Convert to inches with float datatype."
   ]
  },
  {
   "cell_type": "code",
   "execution_count": 17,
   "id": "f2f3f655",
   "metadata": {},
   "outputs": [],
   "source": [
    "## removing \" and space\n",
    "df['height'] = df['height'].str.replace('\"','')\n",
    "df['height'] = df['height'].str.replace(\"' \",\"'\")"
   ]
  },
  {
   "cell_type": "code",
   "execution_count": 18,
   "id": "bfc1be48",
   "metadata": {},
   "outputs": [],
   "source": [
    "df['height'] = df['height'].fillna(\"0'0\")\n",
    "df.height = [s.split('\\'') for s in df.height]\n",
    "## Coverting height to inches\n",
    "df.height = [float(value[0])*12 + float(value[1]) for value in df.height]"
   ]
  },
  {
   "cell_type": "code",
   "execution_count": 19,
   "id": "e299d150",
   "metadata": {},
   "outputs": [
    {
     "data": {
      "text/plain": [
       "0         68.0\n",
       "1         66.0\n",
       "2         64.0\n",
       "3         65.0\n",
       "4         69.0\n",
       "          ... \n",
       "192539    69.0\n",
       "192540    61.0\n",
       "192541    68.0\n",
       "192542    66.0\n",
       "192543    66.0\n",
       "Name: height, Length: 192544, dtype: float64"
      ]
     },
     "execution_count": 19,
     "metadata": {},
     "output_type": "execute_result"
    }
   ],
   "source": [
    "df.height"
   ]
  },
  {
   "cell_type": "markdown",
   "id": "dfabf2cf",
   "metadata": {},
   "source": [
    "#### 8. Check for missing values in each column of the dataset? If it exists, impute them with appropriate methods."
   ]
  },
  {
   "cell_type": "code",
   "execution_count": 20,
   "id": "b4792758",
   "metadata": {},
   "outputs": [],
   "source": [
    "df.fillna(df.dtypes.replace({'float64': 0.0, 'int64': 0, 'object': 'None'}), inplace=True)"
   ]
  },
  {
   "cell_type": "markdown",
   "id": "3dd2e698",
   "metadata": {},
   "source": [
    "#### 9. Check the  statistical summary for the numerical and categorical columns and write your findings."
   ]
  },
  {
   "cell_type": "code",
   "execution_count": 21,
   "id": "c609c479",
   "metadata": {},
   "outputs": [
    {
     "name": "stdout",
     "output_type": "stream",
     "text": [
      "<class 'pandas.core.frame.DataFrame'>\n",
      "RangeIndex: 192544 entries, 0 to 192543\n",
      "Data columns (total 10 columns):\n",
      " #   Column      Non-Null Count   Dtype  \n",
      "---  ------      --------------   -----  \n",
      " 0   fit         192544 non-null  object \n",
      " 1   bust size   192544 non-null  object \n",
      " 2   weight      192544 non-null  float64\n",
      " 3   rating      192544 non-null  float64\n",
      " 4   rented for  192544 non-null  object \n",
      " 5   body type   192544 non-null  object \n",
      " 6   category    192544 non-null  object \n",
      " 7   height      192544 non-null  float64\n",
      " 8   size        192544 non-null  int64  \n",
      " 9   age         192544 non-null  float64\n",
      "dtypes: float64(4), int64(1), object(5)\n",
      "memory usage: 14.7+ MB\n"
     ]
    },
    {
     "data": {
      "text/html": [
       "<div>\n",
       "<style scoped>\n",
       "    .dataframe tbody tr th:only-of-type {\n",
       "        vertical-align: middle;\n",
       "    }\n",
       "\n",
       "    .dataframe tbody tr th {\n",
       "        vertical-align: top;\n",
       "    }\n",
       "\n",
       "    .dataframe thead th {\n",
       "        text-align: right;\n",
       "    }\n",
       "</style>\n",
       "<table border=\"1\" class=\"dataframe\">\n",
       "  <thead>\n",
       "    <tr style=\"text-align: right;\">\n",
       "      <th></th>\n",
       "      <th>weight</th>\n",
       "      <th>height</th>\n",
       "      <th>rating</th>\n",
       "      <th>age</th>\n",
       "      <th>size</th>\n",
       "    </tr>\n",
       "  </thead>\n",
       "  <tbody>\n",
       "    <tr>\n",
       "      <th>count</th>\n",
       "      <td>192544.000000</td>\n",
       "      <td>192544.000000</td>\n",
       "      <td>192544.000000</td>\n",
       "      <td>192544.000000</td>\n",
       "      <td>192544.000000</td>\n",
       "    </tr>\n",
       "    <tr>\n",
       "      <th>mean</th>\n",
       "      <td>115.997751</td>\n",
       "      <td>65.080984</td>\n",
       "      <td>9.088499</td>\n",
       "      <td>33.702141</td>\n",
       "      <td>12.245175</td>\n",
       "    </tr>\n",
       "    <tr>\n",
       "      <th>std</th>\n",
       "      <td>53.726993</td>\n",
       "      <td>4.691938</td>\n",
       "      <td>1.441995</td>\n",
       "      <td>8.384539</td>\n",
       "      <td>8.494877</td>\n",
       "    </tr>\n",
       "    <tr>\n",
       "      <th>min</th>\n",
       "      <td>0.000000</td>\n",
       "      <td>0.000000</td>\n",
       "      <td>0.000000</td>\n",
       "      <td>0.000000</td>\n",
       "      <td>0.000000</td>\n",
       "    </tr>\n",
       "    <tr>\n",
       "      <th>25%</th>\n",
       "      <td>115.000000</td>\n",
       "      <td>63.000000</td>\n",
       "      <td>8.000000</td>\n",
       "      <td>29.000000</td>\n",
       "      <td>8.000000</td>\n",
       "    </tr>\n",
       "    <tr>\n",
       "      <th>50%</th>\n",
       "      <td>130.000000</td>\n",
       "      <td>65.000000</td>\n",
       "      <td>10.000000</td>\n",
       "      <td>32.000000</td>\n",
       "      <td>12.000000</td>\n",
       "    </tr>\n",
       "    <tr>\n",
       "      <th>75%</th>\n",
       "      <td>145.000000</td>\n",
       "      <td>67.000000</td>\n",
       "      <td>10.000000</td>\n",
       "      <td>37.000000</td>\n",
       "      <td>16.000000</td>\n",
       "    </tr>\n",
       "    <tr>\n",
       "      <th>max</th>\n",
       "      <td>300.000000</td>\n",
       "      <td>78.000000</td>\n",
       "      <td>10.000000</td>\n",
       "      <td>117.000000</td>\n",
       "      <td>58.000000</td>\n",
       "    </tr>\n",
       "  </tbody>\n",
       "</table>\n",
       "</div>"
      ],
      "text/plain": [
       "              weight         height         rating            age  \\\n",
       "count  192544.000000  192544.000000  192544.000000  192544.000000   \n",
       "mean      115.997751      65.080984       9.088499      33.702141   \n",
       "std        53.726993       4.691938       1.441995       8.384539   \n",
       "min         0.000000       0.000000       0.000000       0.000000   \n",
       "25%       115.000000      63.000000       8.000000      29.000000   \n",
       "50%       130.000000      65.000000      10.000000      32.000000   \n",
       "75%       145.000000      67.000000      10.000000      37.000000   \n",
       "max       300.000000      78.000000      10.000000     117.000000   \n",
       "\n",
       "                size  \n",
       "count  192544.000000  \n",
       "mean       12.245175  \n",
       "std         8.494877  \n",
       "min         0.000000  \n",
       "25%         8.000000  \n",
       "50%        12.000000  \n",
       "75%        16.000000  \n",
       "max        58.000000  "
      ]
     },
     "execution_count": 21,
     "metadata": {},
     "output_type": "execute_result"
    }
   ],
   "source": [
    "df.info()\n",
    "## statistical summary for the numerical columns\n",
    "df[['weight','height','rating','age','size']].describe()"
   ]
  },
  {
   "cell_type": "code",
   "execution_count": 22,
   "id": "eb6d90f7",
   "metadata": {},
   "outputs": [
    {
     "data": {
      "text/html": [
       "<div>\n",
       "<style scoped>\n",
       "    .dataframe tbody tr th:only-of-type {\n",
       "        vertical-align: middle;\n",
       "    }\n",
       "\n",
       "    .dataframe tbody tr th {\n",
       "        vertical-align: top;\n",
       "    }\n",
       "\n",
       "    .dataframe thead th {\n",
       "        text-align: right;\n",
       "    }\n",
       "</style>\n",
       "<table border=\"1\" class=\"dataframe\">\n",
       "  <thead>\n",
       "    <tr style=\"text-align: right;\">\n",
       "      <th></th>\n",
       "      <th>fit</th>\n",
       "      <th>bust size</th>\n",
       "      <th>rented for</th>\n",
       "      <th>body type</th>\n",
       "      <th>category</th>\n",
       "    </tr>\n",
       "  </thead>\n",
       "  <tbody>\n",
       "    <tr>\n",
       "      <th>count</th>\n",
       "      <td>192544</td>\n",
       "      <td>192544</td>\n",
       "      <td>192544</td>\n",
       "      <td>192544</td>\n",
       "      <td>192544</td>\n",
       "    </tr>\n",
       "    <tr>\n",
       "      <th>unique</th>\n",
       "      <td>3</td>\n",
       "      <td>107</td>\n",
       "      <td>9</td>\n",
       "      <td>8</td>\n",
       "      <td>68</td>\n",
       "    </tr>\n",
       "    <tr>\n",
       "      <th>top</th>\n",
       "      <td>fit</td>\n",
       "      <td>34b</td>\n",
       "      <td>wedding</td>\n",
       "      <td>hourglass</td>\n",
       "      <td>dress</td>\n",
       "    </tr>\n",
       "    <tr>\n",
       "      <th>freq</th>\n",
       "      <td>142058</td>\n",
       "      <td>27285</td>\n",
       "      <td>57784</td>\n",
       "      <td>55349</td>\n",
       "      <td>92884</td>\n",
       "    </tr>\n",
       "  </tbody>\n",
       "</table>\n",
       "</div>"
      ],
      "text/plain": [
       "           fit bust size rented for  body type category\n",
       "count   192544    192544     192544     192544   192544\n",
       "unique       3       107          9          8       68\n",
       "top        fit       34b    wedding  hourglass    dress\n",
       "freq    142058     27285      57784      55349    92884"
      ]
     },
     "execution_count": 22,
     "metadata": {},
     "output_type": "execute_result"
    }
   ],
   "source": [
    "## statistical summary  for categorical columns\n",
    "df[['fit','bust size','rented for','body type','category']].describe()"
   ]
  },
  {
   "cell_type": "markdown",
   "id": "c69a3b59",
   "metadata": {},
   "source": [
    "#### 10. Are there outliers present in the column age? If yes, treat them with the appropriate method."
   ]
  },
  {
   "cell_type": "code",
   "execution_count": 23,
   "id": "b9798ed8",
   "metadata": {},
   "outputs": [
    {
     "name": "stderr",
     "output_type": "stream",
     "text": [
      "/Users/tarangini.shetty/opt/anaconda3/lib/python3.9/site-packages/seaborn/_decorators.py:36: FutureWarning: Pass the following variable as a keyword arg: x. From version 0.12, the only valid positional argument will be `data`, and passing other arguments without an explicit keyword will result in an error or misinterpretation.\n",
      "  warnings.warn(\n"
     ]
    },
    {
     "data": {
      "text/plain": [
       "<AxesSubplot:xlabel='age'>"
      ]
     },
     "execution_count": 23,
     "metadata": {},
     "output_type": "execute_result"
    },
    {
     "data": {
      "image/png": "[encoded data removed]",
      "text/plain": [
       "<Figure size 640x480 with 1 Axes>"
      ]
     },
     "metadata": {},
     "output_type": "display_data"
    }
   ],
   "source": [
    "sns.boxplot(df['age'])"
   ]
  },
  {
   "cell_type": "code",
   "execution_count": 24,
   "id": "162198d4",
   "metadata": {},
   "outputs": [],
   "source": [
    "##Based on the above plot, there are outliers, lower and higher than fences\n",
    "##We can use iQR technique to remove them"
   ]
  },
  {
   "cell_type": "code",
   "execution_count": 25,
   "id": "2ceb61c6",
   "metadata": {},
   "outputs": [],
   "source": [
    "q1 = df['age'].quantile(0.25)\n",
    "q2 = df['age'].quantile(0.50)\n",
    "q3 = df['age'].quantile(0.75)"
   ]
  },
  {
   "cell_type": "code",
   "execution_count": 26,
   "id": "06e04c47",
   "metadata": {},
   "outputs": [
    {
     "data": {
      "text/plain": [
       "8.0"
      ]
     },
     "execution_count": 26,
     "metadata": {},
     "output_type": "execute_result"
    }
   ],
   "source": [
    "iqr = q3-q1\n",
    "iqr"
   ]
  },
  {
   "cell_type": "code",
   "execution_count": 27,
   "id": "61157d7f",
   "metadata": {},
   "outputs": [
    {
     "data": {
      "text/plain": [
       "49.0"
      ]
     },
     "execution_count": 27,
     "metadata": {},
     "output_type": "execute_result"
    }
   ],
   "source": [
    "upper_limit = q3 + 1.5*iqr\n",
    "upper_limit"
   ]
  },
  {
   "cell_type": "code",
   "execution_count": 28,
   "id": "b9850788",
   "metadata": {},
   "outputs": [
    {
     "data": {
      "text/plain": [
       "17.0"
      ]
     },
     "execution_count": 28,
     "metadata": {},
     "output_type": "execute_result"
    }
   ],
   "source": [
    "lower_limit = q1 - 1.5*iqr\n",
    "lower_limit"
   ]
  },
  {
   "cell_type": "code",
   "execution_count": 29,
   "id": "1fd5ad25",
   "metadata": {},
   "outputs": [],
   "source": [
    "df_wo_out = df.loc [(df['age'] > lower_limit) & (df['age'] < upper_limit)]"
   ]
  },
  {
   "cell_type": "code",
   "execution_count": 30,
   "id": "dec31912",
   "metadata": {},
   "outputs": [
    {
     "name": "stderr",
     "output_type": "stream",
     "text": [
      "/Users/tarangini.shetty/opt/anaconda3/lib/python3.9/site-packages/seaborn/_decorators.py:36: FutureWarning: Pass the following variable as a keyword arg: x. From version 0.12, the only valid positional argument will be `data`, and passing other arguments without an explicit keyword will result in an error or misinterpretation.\n",
      "  warnings.warn(\n"
     ]
    },
    {
     "data": {
      "text/plain": [
       "<AxesSubplot:xlabel='age'>"
      ]
     },
     "execution_count": 30,
     "metadata": {},
     "output_type": "execute_result"
    },
    {
     "data": {
      "image/png": "[encoded data removed]",
      "text/plain": [
       "<Figure size 640x480 with 1 Axes>"
      ]
     },
     "metadata": {},
     "output_type": "display_data"
    }
   ],
   "source": [
    "sns.boxplot(df_wo_out['age'])"
   ]
  },
  {
   "cell_type": "code",
   "execution_count": 31,
   "id": "c53eec63",
   "metadata": {},
   "outputs": [
    {
     "data": {
      "text/plain": [
       "(179748, 10)"
      ]
     },
     "execution_count": 31,
     "metadata": {},
     "output_type": "execute_result"
    }
   ],
   "source": [
    "### Removed the outliers, thus the shape has changed\n",
    "df = df_wo_out\n",
    "df.shape"
   ]
  },
  {
   "cell_type": "markdown",
   "id": "1b0b02d7",
   "metadata": {},
   "source": [
    "#### 11. Check the distribution of the different categories in the column 'rented for' using appropriate plot."
   ]
  },
  {
   "cell_type": "code",
   "execution_count": 32,
   "id": "f7cbc346",
   "metadata": {},
   "outputs": [
    {
     "data": {
      "text/plain": [
       "<AxesSubplot:>"
      ]
     },
     "execution_count": 32,
     "metadata": {},
     "output_type": "execute_result"
    },
    {
     "data": {
      "image/png": "[encoded data removed]",
      "text/plain": [
       "<Figure size 640x480 with 1 Axes>"
      ]
     },
     "metadata": {},
     "output_type": "display_data"
    }
   ],
   "source": [
    "df['rented for'].value_counts(normalize=True).plot(kind='bar')"
   ]
  },
  {
   "cell_type": "markdown",
   "id": "bb7b3ab4",
   "metadata": {},
   "source": [
    "### Data Preparation for model building:"
   ]
  },
  {
   "cell_type": "markdown",
   "id": "48fcf24e",
   "metadata": {},
   "source": [
    "#### 12. Encode the categorical variables in the dataset."
   ]
  },
  {
   "cell_type": "code",
   "execution_count": 33,
   "id": "6af57cfb",
   "metadata": {},
   "outputs": [],
   "source": [
    "from sklearn.preprocessing import LabelEncoder\n",
    "cate = ['fit','bust size','rented for','body type','category']"
   ]
  },
  {
   "cell_type": "code",
   "execution_count": 34,
   "id": "e69e7881",
   "metadata": {},
   "outputs": [
    {
     "name": "stdout",
     "output_type": "stream",
     "text": [
      "<class 'pandas.core.frame.DataFrame'>\n",
      "Int64Index: 179748 entries, 0 to 192543\n",
      "Data columns (total 10 columns):\n",
      " #   Column      Non-Null Count   Dtype  \n",
      "---  ------      --------------   -----  \n",
      " 0   fit         179748 non-null  int64  \n",
      " 1   bust size   179748 non-null  int64  \n",
      " 2   weight      179748 non-null  float64\n",
      " 3   rating      179748 non-null  float64\n",
      " 4   rented for  179748 non-null  int64  \n",
      " 5   body type   179748 non-null  int64  \n",
      " 6   category    179748 non-null  int64  \n",
      " 7   height      179748 non-null  float64\n",
      " 8   size        179748 non-null  int64  \n",
      " 9   age         179748 non-null  float64\n",
      "dtypes: float64(4), int64(6)\n",
      "memory usage: 15.1 MB\n"
     ]
    }
   ],
   "source": [
    "lbl_encode = LabelEncoder()\n",
    "for i in cate:\n",
    "    df[i] = df[[i]].apply(lbl_encode.fit_transform)\n",
    "df.info()"
   ]
  },
  {
   "cell_type": "markdown",
   "id": "adb322c4",
   "metadata": {},
   "source": [
    "#### 13. Standardize the data, so that the values are within a particular range."
   ]
  },
  {
   "cell_type": "code",
   "execution_count": 35,
   "id": "709eccfb",
   "metadata": {},
   "outputs": [],
   "source": [
    "from sklearn.preprocessing import StandardScaler\n",
    "\n",
    "#Standardization\n",
    "df1 = df.copy()\n",
    "scaled_features = StandardScaler().fit_transform(df1.values)\n",
    "scaled_features_df = pd.DataFrame(scaled_features, index=df1.index, columns=df1.columns)\n"
   ]
  },
  {
   "cell_type": "code",
   "execution_count": 36,
   "id": "6def4a32",
   "metadata": {},
   "outputs": [
    {
     "data": {
      "text/html": [
       "<div>\n",
       "<style scoped>\n",
       "    .dataframe tbody tr th:only-of-type {\n",
       "        vertical-align: middle;\n",
       "    }\n",
       "\n",
       "    .dataframe tbody tr th {\n",
       "        vertical-align: top;\n",
       "    }\n",
       "\n",
       "    .dataframe thead th {\n",
       "        text-align: right;\n",
       "    }\n",
       "</style>\n",
       "<table border=\"1\" class=\"dataframe\">\n",
       "  <thead>\n",
       "    <tr style=\"text-align: right;\">\n",
       "      <th></th>\n",
       "      <th>fit</th>\n",
       "      <th>bust size</th>\n",
       "      <th>weight</th>\n",
       "      <th>rating</th>\n",
       "      <th>rented for</th>\n",
       "      <th>body type</th>\n",
       "      <th>category</th>\n",
       "      <th>height</th>\n",
       "      <th>size</th>\n",
       "      <th>age</th>\n",
       "    </tr>\n",
       "  </thead>\n",
       "  <tbody>\n",
       "    <tr>\n",
       "      <th>0</th>\n",
       "      <td>-0.556711</td>\n",
       "      <td>-0.281255</td>\n",
       "      <td>0.394226</td>\n",
       "      <td>0.633940</td>\n",
       "      <td>0.502800</td>\n",
       "      <td>0.170621</td>\n",
       "      <td>1.578761</td>\n",
       "      <td>0.620080</td>\n",
       "      <td>0.234497</td>\n",
       "      <td>-0.768582</td>\n",
       "    </tr>\n",
       "    <tr>\n",
       "      <th>1</th>\n",
       "      <td>-0.556711</td>\n",
       "      <td>-0.371342</td>\n",
       "      <td>0.301065</td>\n",
       "      <td>0.633940</td>\n",
       "      <td>-0.467955</td>\n",
       "      <td>1.761874</td>\n",
       "      <td>-0.304735</td>\n",
       "      <td>0.194884</td>\n",
       "      <td>-0.003915</td>\n",
       "      <td>0.583413</td>\n",
       "    </tr>\n",
       "    <tr>\n",
       "      <th>3</th>\n",
       "      <td>-0.556711</td>\n",
       "      <td>-0.326299</td>\n",
       "      <td>0.356962</td>\n",
       "      <td>-0.757027</td>\n",
       "      <td>-0.953333</td>\n",
       "      <td>0.701039</td>\n",
       "      <td>-0.618651</td>\n",
       "      <td>-0.017714</td>\n",
       "      <td>-0.480740</td>\n",
       "      <td>0.245414</td>\n",
       "    </tr>\n",
       "    <tr>\n",
       "      <th>4</th>\n",
       "      <td>-0.556711</td>\n",
       "      <td>-0.371342</td>\n",
       "      <td>0.543284</td>\n",
       "      <td>0.633940</td>\n",
       "      <td>0.988178</td>\n",
       "      <td>-0.890215</td>\n",
       "      <td>-0.304735</td>\n",
       "      <td>0.832677</td>\n",
       "      <td>-0.003915</td>\n",
       "      <td>-0.937582</td>\n",
       "    </tr>\n",
       "    <tr>\n",
       "      <th>5</th>\n",
       "      <td>-0.556711</td>\n",
       "      <td>-0.956907</td>\n",
       "      <td>0.412859</td>\n",
       "      <td>-0.757027</td>\n",
       "      <td>-1.924089</td>\n",
       "      <td>-0.890215</td>\n",
       "      <td>-0.618651</td>\n",
       "      <td>0.620080</td>\n",
       "      <td>-0.480740</td>\n",
       "      <td>2.104408</td>\n",
       "    </tr>\n",
       "    <tr>\n",
       "      <th>...</th>\n",
       "      <td>...</td>\n",
       "      <td>...</td>\n",
       "      <td>...</td>\n",
       "      <td>...</td>\n",
       "      <td>...</td>\n",
       "      <td>...</td>\n",
       "      <td>...</td>\n",
       "      <td>...</td>\n",
       "      <td>...</td>\n",
       "      <td>...</td>\n",
       "    </tr>\n",
       "    <tr>\n",
       "      <th>192539</th>\n",
       "      <td>-0.556711</td>\n",
       "      <td>-0.191168</td>\n",
       "      <td>0.450123</td>\n",
       "      <td>0.633940</td>\n",
       "      <td>1.473556</td>\n",
       "      <td>0.170621</td>\n",
       "      <td>0.166139</td>\n",
       "      <td>0.832677</td>\n",
       "      <td>-0.480740</td>\n",
       "      <td>1.597410</td>\n",
       "    </tr>\n",
       "    <tr>\n",
       "      <th>192540</th>\n",
       "      <td>-0.556711</td>\n",
       "      <td>-0.911863</td>\n",
       "      <td>-0.295165</td>\n",
       "      <td>0.633940</td>\n",
       "      <td>1.473556</td>\n",
       "      <td>1.231456</td>\n",
       "      <td>-0.618651</td>\n",
       "      <td>-0.868106</td>\n",
       "      <td>-0.957565</td>\n",
       "      <td>-0.599583</td>\n",
       "    </tr>\n",
       "    <tr>\n",
       "      <th>192541</th>\n",
       "      <td>-0.556711</td>\n",
       "      <td>0.124136</td>\n",
       "      <td>0.356962</td>\n",
       "      <td>-2.147995</td>\n",
       "      <td>-1.438711</td>\n",
       "      <td>1.761874</td>\n",
       "      <td>-0.618651</td>\n",
       "      <td>0.620080</td>\n",
       "      <td>-0.480740</td>\n",
       "      <td>-0.261584</td>\n",
       "    </tr>\n",
       "    <tr>\n",
       "      <th>192542</th>\n",
       "      <td>-0.556711</td>\n",
       "      <td>0.259266</td>\n",
       "      <td>0.915928</td>\n",
       "      <td>0.633940</td>\n",
       "      <td>0.988178</td>\n",
       "      <td>0.701039</td>\n",
       "      <td>-0.618651</td>\n",
       "      <td>0.194884</td>\n",
       "      <td>0.472909</td>\n",
       "      <td>-0.261584</td>\n",
       "    </tr>\n",
       "    <tr>\n",
       "      <th>192543</th>\n",
       "      <td>-0.556711</td>\n",
       "      <td>0.214223</td>\n",
       "      <td>0.729606</td>\n",
       "      <td>0.633940</td>\n",
       "      <td>0.988178</td>\n",
       "      <td>-0.890215</td>\n",
       "      <td>-0.304735</td>\n",
       "      <td>0.194884</td>\n",
       "      <td>0.472909</td>\n",
       "      <td>-0.430583</td>\n",
       "    </tr>\n",
       "  </tbody>\n",
       "</table>\n",
       "<p>179748 rows × 10 columns</p>\n",
       "</div>"
      ],
      "text/plain": [
       "             fit  bust size    weight    rating  rented for  body type  \\\n",
       "0      -0.556711  -0.281255  0.394226  0.633940    0.502800   0.170621   \n",
       "1      -0.556711  -0.371342  0.301065  0.633940   -0.467955   1.761874   \n",
       "3      -0.556711  -0.326299  0.356962 -0.757027   -0.953333   0.701039   \n",
       "4      -0.556711  -0.371342  0.543284  0.633940    0.988178  -0.890215   \n",
       "5      -0.556711  -0.956907  0.412859 -0.757027   -1.924089  -0.890215   \n",
       "...          ...        ...       ...       ...         ...        ...   \n",
       "192539 -0.556711  -0.191168  0.450123  0.633940    1.473556   0.170621   \n",
       "192540 -0.556711  -0.911863 -0.295165  0.633940    1.473556   1.231456   \n",
       "192541 -0.556711   0.124136  0.356962 -2.147995   -1.438711   1.761874   \n",
       "192542 -0.556711   0.259266  0.915928  0.633940    0.988178   0.701039   \n",
       "192543 -0.556711   0.214223  0.729606  0.633940    0.988178  -0.890215   \n",
       "\n",
       "        category    height      size       age  \n",
       "0       1.578761  0.620080  0.234497 -0.768582  \n",
       "1      -0.304735  0.194884 -0.003915  0.583413  \n",
       "3      -0.618651 -0.017714 -0.480740  0.245414  \n",
       "4      -0.304735  0.832677 -0.003915 -0.937582  \n",
       "5      -0.618651  0.620080 -0.480740  2.104408  \n",
       "...          ...       ...       ...       ...  \n",
       "192539  0.166139  0.832677 -0.480740  1.597410  \n",
       "192540 -0.618651 -0.868106 -0.957565 -0.599583  \n",
       "192541 -0.618651  0.620080 -0.480740 -0.261584  \n",
       "192542 -0.618651  0.194884  0.472909 -0.261584  \n",
       "192543 -0.304735  0.194884  0.472909 -0.430583  \n",
       "\n",
       "[179748 rows x 10 columns]"
      ]
     },
     "execution_count": 36,
     "metadata": {},
     "output_type": "execute_result"
    }
   ],
   "source": [
    "scaled_features_df"
   ]
  },
  {
   "cell_type": "markdown",
   "id": "e82d4feb",
   "metadata": {},
   "source": []
  },
  {
   "cell_type": "markdown",
   "id": "d18c2a84",
   "metadata": {},
   "source": [
    "### Principal Component Analysis and Clustering:"
   ]
  },
  {
   "cell_type": "markdown",
   "id": "bd039185",
   "metadata": {},
   "source": [
    "#### 14. Apply PCA on the above dataset and determine the number of PCA components to be used so that 90-95% of the variance in data is explained by the same."
   ]
  },
  {
   "cell_type": "code",
   "execution_count": 37,
   "id": "a6e54326",
   "metadata": {},
   "outputs": [
    {
     "data": {
      "text/plain": [
       "array([[ 1.00000556e+00,  2.25997871e-03,  1.11519325e-02,\n",
       "        -2.41831542e-01,  7.54016130e-03, -6.92169364e-03,\n",
       "         7.49130837e-04, -2.01113543e-03,  6.53322866e-02,\n",
       "        -1.87628818e-03],\n",
       "       [ 2.25997871e-03,  1.00000556e+00, -1.38690532e-01,\n",
       "        -1.95240225e-03,  4.18414143e-03, -2.42977109e-01,\n",
       "        -8.70243784e-03,  3.54164616e-02,  3.62380748e-01,\n",
       "         6.07536719e-02],\n",
       "       [ 1.11519325e-02, -1.38690532e-01,  1.00000556e+00,\n",
       "        -8.75579806e-03, -6.83988475e-04,  4.19082046e-02,\n",
       "         2.12247400e-03,  7.89608341e-02,  8.01061144e-02,\n",
       "         5.65642625e-02],\n",
       "       [-2.41831542e-01, -1.95240225e-03, -8.75579806e-03,\n",
       "         1.00000556e+00,  1.32382024e-02, -9.79255480e-03,\n",
       "        -2.27853326e-02,  4.17849920e-03, -3.72017436e-02,\n",
       "        -5.06620729e-02],\n",
       "       [ 7.54016130e-03,  4.18414143e-03, -6.83988475e-04,\n",
       "         1.32382024e-02,  1.00000556e+00, -2.05585266e-02,\n",
       "        -5.85881651e-02, -1.29596580e-02,  6.67676674e-03,\n",
       "        -1.83844482e-02],\n",
       "       [-6.92169364e-03, -2.42977109e-01,  4.19082046e-02,\n",
       "        -9.79255480e-03, -2.05585266e-02,  1.00000556e+00,\n",
       "         3.26504076e-04, -5.31875932e-02, -1.85898345e-01,\n",
       "        -1.29328243e-02],\n",
       "       [ 7.49130837e-04, -8.70243784e-03,  2.12247400e-03,\n",
       "        -2.27853326e-02, -5.85881651e-02,  3.26504076e-04,\n",
       "         1.00000556e+00, -4.24947281e-03, -8.80892165e-03,\n",
       "         2.19606374e-02],\n",
       "       [-2.01113543e-03,  3.54164616e-02,  7.89608341e-02,\n",
       "         4.17849920e-03, -1.29596580e-02, -5.31875932e-02,\n",
       "        -4.24947281e-03,  1.00000556e+00,  1.27680784e-01,\n",
       "         9.29090925e-03],\n",
       "       [ 6.53322866e-02,  3.62380748e-01,  8.01061144e-02,\n",
       "        -3.72017436e-02,  6.67676674e-03, -1.85898345e-01,\n",
       "        -8.80892165e-03,  1.27680784e-01,  1.00000556e+00,\n",
       "         1.30452915e-01],\n",
       "       [-1.87628818e-03,  6.07536719e-02,  5.65642625e-02,\n",
       "        -5.06620729e-02, -1.83844482e-02, -1.29328243e-02,\n",
       "         2.19606374e-02,  9.29090925e-03,  1.30452915e-01,\n",
       "         1.00000556e+00]])"
      ]
     },
     "execution_count": 37,
     "metadata": {},
     "output_type": "execute_result"
    }
   ],
   "source": [
    "##Step 1\n",
    "cov_matrix = np.cov(scaled_features_df.T)\n",
    "cov_matrix"
   ]
  },
  {
   "cell_type": "code",
   "execution_count": 38,
   "id": "21fe4a16",
   "metadata": {},
   "outputs": [
    {
     "name": "stdout",
     "output_type": "stream",
     "text": [
      "eigein vals: \n",
      " [1.59729979 0.56979779 1.25685354 1.1449666  0.74890362 1.06474548\n",
      " 0.80830507 0.87360625 0.9920029  0.9435746 ]\n",
      "\n",
      "\n",
      "eigein vectors \n",
      " [[-1.06836943e-01 -9.85009863e-02  6.35211785e-01  2.53808691e-01\n",
      "  -6.74134800e-01  1.35752987e-01  8.99949840e-02  8.73649076e-02\n",
      "  -1.49506636e-01  8.58936151e-07]\n",
      " [-5.85609256e-01 -6.76285734e-01 -1.77436680e-01  2.11079218e-01\n",
      "   1.22767047e-01 -7.40441285e-02  3.15213967e-01  5.49883211e-04\n",
      "   3.77629358e-02 -4.81739143e-02]\n",
      " [ 3.88134043e-02 -3.02712287e-01  2.33168215e-01 -6.82448575e-01\n",
      "   1.10021581e-01  1.83573766e-01  2.54326313e-02  5.70796101e-01\n",
      "   2.32654660e-02  1.18131079e-01]\n",
      " [ 8.95476270e-02 -1.68718987e-02 -6.61560216e-01 -2.16112594e-01\n",
      "  -6.81355049e-01  1.23582932e-03  1.70835499e-01  1.13760373e-01\n",
      "   1.21649983e-02  2.84531376e-02]\n",
      " [-1.59125020e-02 -1.12773434e-02 -6.65057012e-02  1.17966385e-01\n",
      "   3.45541000e-02  6.53099489e-01  3.75005421e-02 -2.02708002e-01\n",
      "   2.77837212e-01  6.58678425e-01]\n",
      " [ 4.48385420e-01 -8.79916139e-02  1.73159501e-01 -1.38806158e-01\n",
      "   6.94246664e-02 -2.35555477e-02  7.60481812e-01 -3.30490341e-01\n",
      "   1.67836873e-01 -1.44417148e-01]\n",
      " [ 9.57022734e-03  1.31628395e-03  9.58600717e-02 -5.74486877e-02\n",
      "  -2.95290479e-02 -6.64154852e-01  9.43933827e-02 -3.62388461e-02\n",
      "  -1.32211784e-01  7.19541673e-01]\n",
      " [-1.98509374e-01 -9.13372362e-02  2.57766833e-02 -4.64663804e-01\n",
      "  -4.37586279e-02  1.55917980e-01 -1.18717102e-01 -6.11229509e-01\n",
      "  -5.67035278e-01 -1.50048726e-02]\n",
      " [-5.94413004e-01  6.48520470e-01  4.52154387e-02 -1.78395463e-01\n",
      "   4.22706698e-02  3.85484983e-02  4.16088526e-01  1.14846910e-01\n",
      "   4.87257519e-02 -1.60789721e-02]\n",
      " [-2.04927636e-01 -6.49849638e-02  1.63363490e-01 -3.07188933e-01\n",
      "  -2.08647335e-01 -2.19990593e-01 -2.94681304e-01 -3.39409017e-01\n",
      "   7.27177120e-01 -9.98862411e-02]]\n"
     ]
    }
   ],
   "source": [
    "eig_vals, eig_vectors = np.linalg.eig(cov_matrix)\n",
    "print('eigein vals:','\\n',eig_vals)\n",
    "print('\\n')\n",
    "print('eigein vectors','\\n',eig_vectors)"
   ]
  },
  {
   "cell_type": "code",
   "execution_count": 39,
   "id": "81c9853b",
   "metadata": {},
   "outputs": [
    {
     "name": "stdout",
     "output_type": "stream",
     "text": [
      "Explained Variance:  [15.972909010148994, 12.568465484628202, 11.449602343728616, 10.647395602078765, 9.919973777661385, 9.435693498570053, 8.736013909354833, 8.08300568793914, 7.4889945216081415, 5.697946164281873]\n",
      "Cummulative Variance Explained:  [ 15.97290901  28.54137449  39.99097684  50.63837244  60.55834622\n",
      "  69.99403972  78.73005363  86.81305931  94.30205384 100.        ]\n"
     ]
    }
   ],
   "source": [
    "## Step3: Scree plot.\n",
    "total = sum(eig_vals)\n",
    "var_exp = [(i/total)*100 for i in sorted(eig_vals, reverse=True)]\n",
    "cum_var_exp = np.cumsum(var_exp)\n",
    "print('Explained Variance: ',var_exp)\n",
    "print('Cummulative Variance Explained: ', cum_var_exp)"
   ]
  },
  {
   "cell_type": "code",
   "execution_count": 40,
   "id": "f6649cf3",
   "metadata": {},
   "outputs": [
    {
     "data": {
      "image/png": "[encoded data removed]",
      "text/plain": [
       "<Figure size 640x480 with 1 Axes>"
      ]
     },
     "metadata": {},
     "output_type": "display_data"
    }
   ],
   "source": [
    "## Scree plot.\n",
    "plt.bar(range(1,len(var_exp)+1),var_exp, align='center', color='lightgreen', edgecolor='black', label='Explained Variance')\n",
    "plt.step(range(1,len(var_exp)+1),cum_var_exp, where='mid', color='red',label='Cummulative Explained Variance')\n",
    "plt.xlabel('Principal Components')\n",
    "plt.ylabel('Explained Variance ratio')\n",
    "plt.title('Scree Plot')\n",
    "#plt.legend(loc='best')\n",
    "plt.show()\n"
   ]
  },
  {
   "cell_type": "code",
   "execution_count": 41,
   "id": "69756b27",
   "metadata": {},
   "outputs": [],
   "source": [
    "## We can observe from the above scree plot the first 10 principal components are explaining the avout 90-95% of the variation. So we can choose optimal number of principal components as 10"
   ]
  },
  {
   "cell_type": "markdown",
   "id": "fe3c5707",
   "metadata": {},
   "source": [
    "#### 15. Apply K-means clustering and segment the data. (You may use original data or PCA transformed data)"
   ]
  },
  {
   "cell_type": "code",
   "execution_count": 42,
   "id": "b035c8b8",
   "metadata": {},
   "outputs": [
    {
     "data": {
      "text/html": [
       "<div>\n",
       "<style scoped>\n",
       "    .dataframe tbody tr th:only-of-type {\n",
       "        vertical-align: middle;\n",
       "    }\n",
       "\n",
       "    .dataframe tbody tr th {\n",
       "        vertical-align: top;\n",
       "    }\n",
       "\n",
       "    .dataframe thead th {\n",
       "        text-align: right;\n",
       "    }\n",
       "</style>\n",
       "<table border=\"1\" class=\"dataframe\">\n",
       "  <thead>\n",
       "    <tr style=\"text-align: right;\">\n",
       "      <th></th>\n",
       "      <th>PC1</th>\n",
       "      <th>PC2</th>\n",
       "      <th>PC3</th>\n",
       "      <th>PC4</th>\n",
       "      <th>PC5</th>\n",
       "      <th>PC6</th>\n",
       "      <th>PC7</th>\n",
       "      <th>PC8</th>\n",
       "      <th>PC9</th>\n",
       "      <th>PC10</th>\n",
       "    </tr>\n",
       "  </thead>\n",
       "  <tbody>\n",
       "    <tr>\n",
       "      <th>0</th>\n",
       "      <td>-0.274888</td>\n",
       "      <td>-0.582719</td>\n",
       "      <td>-0.755636</td>\n",
       "      <td>0.430977</td>\n",
       "      <td>-0.849979</td>\n",
       "      <td>1.584380</td>\n",
       "      <td>-0.058390</td>\n",
       "      <td>0.527647</td>\n",
       "      <td>0.077945</td>\n",
       "      <td>0.241793</td>\n",
       "    </tr>\n",
       "    <tr>\n",
       "      <th>1</th>\n",
       "      <td>-0.984004</td>\n",
       "      <td>-0.229780</td>\n",
       "      <td>-1.113475</td>\n",
       "      <td>0.234871</td>\n",
       "      <td>0.603455</td>\n",
       "      <td>-0.771591</td>\n",
       "      <td>-0.598842</td>\n",
       "      <td>1.045676</td>\n",
       "      <td>-0.084380</td>\n",
       "      <td>-0.004269</td>\n",
       "    </tr>\n",
       "    <tr>\n",
       "      <th>2</th>\n",
       "      <td>-0.759193</td>\n",
       "      <td>0.431707</td>\n",
       "      <td>-0.445803</td>\n",
       "      <td>0.290359</td>\n",
       "      <td>0.169667</td>\n",
       "      <td>-1.154498</td>\n",
       "      <td>-0.074883</td>\n",
       "      <td>-0.104470</td>\n",
       "      <td>0.853562</td>\n",
       "      <td>-0.197626</td>\n",
       "    </tr>\n",
       "    <tr>\n",
       "      <th>3</th>\n",
       "      <td>0.033837</td>\n",
       "      <td>-0.961413</td>\n",
       "      <td>-0.568003</td>\n",
       "      <td>-1.257114</td>\n",
       "      <td>-0.899144</td>\n",
       "      <td>0.741509</td>\n",
       "      <td>0.247136</td>\n",
       "      <td>-0.537931</td>\n",
       "      <td>0.097907</td>\n",
       "      <td>0.179937</td>\n",
       "    </tr>\n",
       "    <tr>\n",
       "      <th>4</th>\n",
       "      <td>0.074962</td>\n",
       "      <td>0.665786</td>\n",
       "      <td>-1.378120</td>\n",
       "      <td>1.139439</td>\n",
       "      <td>0.600537</td>\n",
       "      <td>-1.722385</td>\n",
       "      <td>-0.341448</td>\n",
       "      <td>-2.171876</td>\n",
       "      <td>0.222495</td>\n",
       "      <td>0.183829</td>\n",
       "    </tr>\n",
       "  </tbody>\n",
       "</table>\n",
       "</div>"
      ],
      "text/plain": [
       "        PC1       PC2       PC3       PC4       PC5       PC6       PC7  \\\n",
       "0 -0.274888 -0.582719 -0.755636  0.430977 -0.849979  1.584380 -0.058390   \n",
       "1 -0.984004 -0.229780 -1.113475  0.234871  0.603455 -0.771591 -0.598842   \n",
       "2 -0.759193  0.431707 -0.445803  0.290359  0.169667 -1.154498 -0.074883   \n",
       "3  0.033837 -0.961413 -0.568003 -1.257114 -0.899144  0.741509  0.247136   \n",
       "4  0.074962  0.665786 -1.378120  1.139439  0.600537 -1.722385 -0.341448   \n",
       "\n",
       "        PC8       PC9      PC10  \n",
       "0  0.527647  0.077945  0.241793  \n",
       "1  1.045676 -0.084380 -0.004269  \n",
       "2 -0.104470  0.853562 -0.197626  \n",
       "3 -0.537931  0.097907  0.179937  \n",
       "4 -2.171876  0.222495  0.183829  "
      ]
     },
     "execution_count": 42,
     "metadata": {},
     "output_type": "execute_result"
    }
   ],
   "source": [
    "from sklearn.decomposition import PCA\n",
    "pca = PCA(n_components=10)\n",
    "pca_df = pd.DataFrame(pca.fit_transform(scaled_features_df), columns=['PC1','PC2','PC3','PC4','PC5','PC6','PC7','PC8','PC9','PC10'])\n",
    "pca_df.head()                      "
   ]
  },
  {
   "cell_type": "markdown",
   "id": "bbe11a50",
   "metadata": {},
   "source": [
    "##### a. Find the optimal K Value using elbow plot for K Means clustering."
   ]
  },
  {
   "cell_type": "code",
   "execution_count": 43,
   "id": "4749afed",
   "metadata": {},
   "outputs": [],
   "source": [
    "### finding optimal k value by KMeans clustering using Elbow plot\n",
    "from sklearn.cluster import KMeans\n",
    "cluster_errors = []\n",
    "cluster_range = range(2,15)\n",
    "for num_clusters in cluster_range:\n",
    "    clusters = KMeans(num_clusters, random_state=100)\n",
    "    clusters.fit(pca_df)\n",
    "    cluster_errors.append(clusters.inertia_)"
   ]
  },
  {
   "cell_type": "code",
   "execution_count": 44,
   "id": "a0ac3e7b",
   "metadata": {},
   "outputs": [
    {
     "data": {
      "image/png": "[encoded data removed]",
      "text/plain": [
       "<Figure size 1500x500 with 1 Axes>"
      ]
     },
     "metadata": {},
     "output_type": "display_data"
    }
   ],
   "source": [
    "### creating a dataframe of number of clusters and cluster errors.\n",
    "cluster_df = pd.DataFrame({'num_clusters':cluster_range, 'cluster_errors':cluster_errors})\n",
    "\n",
    "## Elbow plot\n",
    "plt.figure(figsize=[15,5])\n",
    "plt.plot(cluster_df['num_clusters'],cluster_df['cluster_errors'],marker='o',color='b')\n",
    "plt.show()"
   ]
  },
  {
   "cell_type": "code",
   "execution_count": 45,
   "id": "98ecad1d",
   "metadata": {},
   "outputs": [],
   "source": [
    "## From the above elbow plot we can see at the cluster k=4, the inertia  decreases. Hence we can select our optimal clusters as K=4"
   ]
  },
  {
   "cell_type": "markdown",
   "id": "27e5aadb",
   "metadata": {},
   "source": [
    "##### b. Build a Kmeans clustering model using the obtained optimal K value from the elbow plot."
   ]
  },
  {
   "cell_type": "code",
   "execution_count": 46,
   "id": "91db0449",
   "metadata": {},
   "outputs": [
    {
     "data": {
      "text/plain": [
       "KMeans(n_clusters=4, random_state=100)"
      ]
     },
     "execution_count": 46,
     "metadata": {},
     "output_type": "execute_result"
    }
   ],
   "source": [
    "##Applying KMeans clustering for the optimal number of clusters obtained above.\n",
    "kmeans = KMeans(n_clusters=4, random_state=100)\n",
    "kmeans.fit(pca_df)"
   ]
  },
  {
   "cell_type": "code",
   "execution_count": 47,
   "id": "8631083e",
   "metadata": {},
   "outputs": [],
   "source": [
    "## Creating a dataframe of the labels.\n",
    "label = pd.DataFrame(kmeans.labels_,columns=['Label'])"
   ]
  },
  {
   "cell_type": "code",
   "execution_count": 48,
   "id": "12e6120c",
   "metadata": {},
   "outputs": [
    {
     "data": {
      "text/html": [
       "<div>\n",
       "<style scoped>\n",
       "    .dataframe tbody tr th:only-of-type {\n",
       "        vertical-align: middle;\n",
       "    }\n",
       "\n",
       "    .dataframe tbody tr th {\n",
       "        vertical-align: top;\n",
       "    }\n",
       "\n",
       "    .dataframe thead th {\n",
       "        text-align: right;\n",
       "    }\n",
       "</style>\n",
       "<table border=\"1\" class=\"dataframe\">\n",
       "  <thead>\n",
       "    <tr style=\"text-align: right;\">\n",
       "      <th></th>\n",
       "      <th>PC1</th>\n",
       "      <th>PC2</th>\n",
       "      <th>PC3</th>\n",
       "      <th>PC4</th>\n",
       "      <th>PC5</th>\n",
       "      <th>PC6</th>\n",
       "      <th>PC7</th>\n",
       "      <th>PC8</th>\n",
       "      <th>PC9</th>\n",
       "      <th>PC10</th>\n",
       "      <th>Label</th>\n",
       "    </tr>\n",
       "  </thead>\n",
       "  <tbody>\n",
       "    <tr>\n",
       "      <th>0</th>\n",
       "      <td>-0.274888</td>\n",
       "      <td>-0.582719</td>\n",
       "      <td>-0.755636</td>\n",
       "      <td>0.430977</td>\n",
       "      <td>-0.849979</td>\n",
       "      <td>1.584380</td>\n",
       "      <td>-0.058390</td>\n",
       "      <td>0.527647</td>\n",
       "      <td>0.077945</td>\n",
       "      <td>0.241793</td>\n",
       "      <td>1</td>\n",
       "    </tr>\n",
       "    <tr>\n",
       "      <th>1</th>\n",
       "      <td>-0.984004</td>\n",
       "      <td>-0.229780</td>\n",
       "      <td>-1.113475</td>\n",
       "      <td>0.234871</td>\n",
       "      <td>0.603455</td>\n",
       "      <td>-0.771591</td>\n",
       "      <td>-0.598842</td>\n",
       "      <td>1.045676</td>\n",
       "      <td>-0.084380</td>\n",
       "      <td>-0.004269</td>\n",
       "      <td>1</td>\n",
       "    </tr>\n",
       "    <tr>\n",
       "      <th>2</th>\n",
       "      <td>-0.759193</td>\n",
       "      <td>0.431707</td>\n",
       "      <td>-0.445803</td>\n",
       "      <td>0.290359</td>\n",
       "      <td>0.169667</td>\n",
       "      <td>-1.154498</td>\n",
       "      <td>-0.074883</td>\n",
       "      <td>-0.104470</td>\n",
       "      <td>0.853562</td>\n",
       "      <td>-0.197626</td>\n",
       "      <td>1</td>\n",
       "    </tr>\n",
       "    <tr>\n",
       "      <th>3</th>\n",
       "      <td>0.033837</td>\n",
       "      <td>-0.961413</td>\n",
       "      <td>-0.568003</td>\n",
       "      <td>-1.257114</td>\n",
       "      <td>-0.899144</td>\n",
       "      <td>0.741509</td>\n",
       "      <td>0.247136</td>\n",
       "      <td>-0.537931</td>\n",
       "      <td>0.097907</td>\n",
       "      <td>0.179937</td>\n",
       "      <td>1</td>\n",
       "    </tr>\n",
       "    <tr>\n",
       "      <th>4</th>\n",
       "      <td>0.074962</td>\n",
       "      <td>0.665786</td>\n",
       "      <td>-1.378120</td>\n",
       "      <td>1.139439</td>\n",
       "      <td>0.600537</td>\n",
       "      <td>-1.722385</td>\n",
       "      <td>-0.341448</td>\n",
       "      <td>-2.171876</td>\n",
       "      <td>0.222495</td>\n",
       "      <td>0.183829</td>\n",
       "      <td>1</td>\n",
       "    </tr>\n",
       "  </tbody>\n",
       "</table>\n",
       "</div>"
      ],
      "text/plain": [
       "        PC1       PC2       PC3       PC4       PC5       PC6       PC7  \\\n",
       "0 -0.274888 -0.582719 -0.755636  0.430977 -0.849979  1.584380 -0.058390   \n",
       "1 -0.984004 -0.229780 -1.113475  0.234871  0.603455 -0.771591 -0.598842   \n",
       "2 -0.759193  0.431707 -0.445803  0.290359  0.169667 -1.154498 -0.074883   \n",
       "3  0.033837 -0.961413 -0.568003 -1.257114 -0.899144  0.741509  0.247136   \n",
       "4  0.074962  0.665786 -1.378120  1.139439  0.600537 -1.722385 -0.341448   \n",
       "\n",
       "        PC8       PC9      PC10  Label  \n",
       "0  0.527647  0.077945  0.241793      1  \n",
       "1  1.045676 -0.084380 -0.004269      1  \n",
       "2 -0.104470  0.853562 -0.197626      1  \n",
       "3 -0.537931  0.097907  0.179937      1  \n",
       "4 -2.171876  0.222495  0.183829      1  "
      ]
     },
     "execution_count": 48,
     "metadata": {},
     "output_type": "execute_result"
    }
   ],
   "source": [
    "## joining the label dataframe to the pca_f dataframe\n",
    "kmeans_df = pca_df.join(label)\n",
    "kmeans_df.head()"
   ]
  },
  {
   "cell_type": "code",
   "execution_count": 49,
   "id": "5bf04645",
   "metadata": {},
   "outputs": [
    {
     "data": {
      "text/plain": [
       "1    113004\n",
       "0     33355\n",
       "2     32754\n",
       "3       635\n",
       "Name: Label, dtype: int64"
      ]
     },
     "execution_count": 49,
     "metadata": {},
     "output_type": "execute_result"
    }
   ],
   "source": [
    "kmeans_df['Label'].value_counts()"
   ]
  },
  {
   "cell_type": "code",
   "execution_count": 50,
   "id": "c274c940",
   "metadata": {},
   "outputs": [
    {
     "name": "stderr",
     "output_type": "stream",
     "text": [
      "/Users/tarangini.shetty/opt/anaconda3/lib/python3.9/site-packages/seaborn/_decorators.py:36: FutureWarning: Pass the following variables as keyword args: x, y. From version 0.12, the only valid positional argument will be `data`, and passing other arguments without an explicit keyword will result in an error or misinterpretation.\n",
      "  warnings.warn(\n"
     ]
    },
    {
     "data": {
      "image/png": "[encoded data removed]",
      "text/plain": [
       "<Figure size 640x480 with 1 Axes>"
      ]
     },
     "metadata": {},
     "output_type": "display_data"
    }
   ],
   "source": [
    "## Visualing the clusters formed\n",
    "sns.scatterplot(kmeans_df['PC1'],kmeans_df['PC2'],hue='Label',data=kmeans_df)\n",
    "plt.show()"
   ]
  },
  {
   "cell_type": "markdown",
   "id": "78614911",
   "metadata": {},
   "source": [
    "#### 16. Apply Agglomerative clustering and segment the data. (You may use original data or PCA transformed data) "
   ]
  },
  {
   "cell_type": "markdown",
   "id": "fe59e86c",
   "metadata": {},
   "source": [
    "##### a. Find the optimal K Value using dendrogram for Agglomerative clustering."
   ]
  },
  {
   "cell_type": "code",
   "execution_count": null,
   "id": "5f808ab6",
   "metadata": {},
   "outputs": [],
   "source": [
    "## Agglomerative clustering using the original data\n",
    "from scipy.cluster.hierarchy import dendrogram, linkage\n",
    "\n",
    "\n",
    "plt.figure(figsize=[18,5])\n",
    "merg = linkage(scaled_features,method='ward')\n",
    "dendrogram(merg, leaf_rotation=90,)\n",
    "plt.xlabel('Datapoints')\n",
    "plt.ylabel('Euclidean distance')\n",
    "plt.show()"
   ]
  },
  {
   "cell_type": "markdown",
   "id": "1fcf4978",
   "metadata": {},
   "source": [
    "##### b. Build a Agglomerative clustering model using the obtained optimal K value observed from dendrogram."
   ]
  },
  {
   "cell_type": "code",
   "execution_count": null,
   "id": "d056cac5",
   "metadata": {},
   "outputs": [],
   "source": [
    "## Building hierarchical clustering model using the optimal clusters as 4 using original data\n",
    "from sklearn.cluster import AgglomerativeClustering\n",
    "\n",
    "hie_cluster = AgglomerativeClustering(n_clusters=4, affinity='euclidean',linkage='ward')\n",
    "hie_cluster_model = hie_cluster.fit(scaled_features_df)\n",
    "## Creating a dataframe of the labels\n",
    "df_label1 = pd.DataFrame(hie_cluster_model.labels_, columns=['Labels'])\n",
    "df_label1.head(5)"
   ]
  },
  {
   "cell_type": "code",
   "execution_count": null,
   "id": "6c478919",
   "metadata": {},
   "outputs": [],
   "source": [
    "## joining the label dataframe with unscaled initial cleaned dataframe .(dfc)\n",
    "\n",
    "df_hier = df.join(df_label1)\n",
    "df_hier.head()"
   ]
  },
  {
   "cell_type": "markdown",
   "id": "a81bbfb0",
   "metadata": {},
   "source": [
    "##### c. Compute silhouette score for evaluating the quality of the Agglomerative clustering technique. "
   ]
  },
  {
   "cell_type": "code",
   "execution_count": null,
   "id": "c31a9205",
   "metadata": {},
   "outputs": [],
   "source": [
    "## Computing silhoutte score for agglomerative clustering\n",
    "from sklearn.metrics import silhouette_score\n",
    "from sklearn.cluster import AgglomerativeClustering\n",
    "\n",
    "for i in range(2,10):\n",
    "    hier = AgglomerativeClustering(n_clusters=i)\n",
    "    hier = hier.fit(scaled_features_df)\n",
    "    labels = hier.fit_predict(scaled_features_df)\n",
    "    print(i,silhouette_score(scaled_features_df, labels)"
   ]
  },
  {
   "cell_type": "markdown",
   "id": "0525dee2",
   "metadata": {},
   "source": [
    "#### 17. Perform cluster analysis by doing bivariate analysis between cluster labels and different features and write your conclusion on the results"
   ]
  }
 ],
 "metadata": {
  "kernelspec": {
   "display_name": "Python 3 (ipykernel)",
   "language": "python",
   "name": "python3"
  },
  "language_info": {
   "codemirror_mode": {
    "name": "ipython",
    "version": 3
   },
   "file_extension": ".py",
   "mimetype": "text/x-python",
   "name": "python",
   "nbconvert_exporter": "python",
   "pygments_lexer": "ipython3",
   "version": "3.9.13"
  }
 },
 "nbformat": 4,
 "nbformat_minor": 5
}
